{
  "cells": [
    {
      "cell_type": "code",
      "execution_count": 49,
      "metadata": {
        "id": "daJBuIq4G65J"
      },
      "outputs": [],
      "source": [
        "import numpy as np\n",
        "import random\n",
        "from tqdm.auto import tqdm"
      ]
    },
    {
      "cell_type": "code",
      "execution_count": 50,
      "metadata": {
        "id": "xPfMXNxhG65g"
      },
      "outputs": [],
      "source": [
        "#Start the game\n",
        "board = [' '] * 9\n",
        "player_symbol = 'X'\n",
        "opponent_symbol = 'O'"
      ]
    },
    {
      "cell_type": "code",
      "execution_count": 51,
      "metadata": {
        "id": "2r4pxWCwG65t"
      },
      "outputs": [],
      "source": [
        "def get_state():\n",
        "    return tuple(board)"
      ]
    },
    {
      "cell_type": "code",
      "execution_count": 52,
      "metadata": {
        "id": "EAFvGgWNG651"
      },
      "outputs": [],
      "source": [
        "Q_table = {}\n",
        "\n",
        "learning_rate = 0.4 #Sarebbe il parametro ALPHA--> Ho messo un valore arbitrario\n",
        "discount_factor = 0.7 # Sarebbe il termine PHI visto a lezione nelle slide\n",
        "exploration_prob = 0.3 #Ci serve per creare lo stato del nostro utente a seguito di un'azione che faccio\n",
        "num_episodes = 500_000 #Numero di cicli che uso\n",
        "\n",
        "# Funzione per inizializzare la tabella Q per uno stato specifico\n",
        "def initialize_Q(state):\n",
        "    if state not in Q_table:\n",
        "        Q_table[state] = {i: 0 for i in range(9)}\n",
        "\n",
        "def print_board():\n",
        "    print(f\" {board[0]} | {board[1]} | {board[2]} \")\n",
        "    print(\"---|---|---\")\n",
        "    print(f\" {board[3]} | {board[4]} | {board[5]} \")\n",
        "    print(\"---|---|---\")\n",
        "    print(f\" {board[6]} | {board[7]} | {board[8]} \")"
      ]
    },
    {
      "cell_type": "code",
      "execution_count": 53,
      "metadata": {
        "id": "ZaLW0xZNG657"
      },
      "outputs": [],
      "source": [
        "# Funzione per eseguire una mossa\n",
        "def make_move(position, symbol):\n",
        "    board[position] = symbol\n",
        "\n",
        "# Funzione per valutare lo stato del gioco\n",
        "def evaluate_state():\n",
        "    for i in range(0, 9, 3):\n",
        "        if board[i] == board[i + 1] == board[i + 2] != ' ':\n",
        "            return 1 if board[i] == player_symbol else -1\n",
        "    for i in range(3):\n",
        "        if board[i] == board[i + 3] == board[i + 6] != ' ':\n",
        "            return 1 if board[i] == player_symbol else -1\n",
        "    if board[0] == board[4] == board[8] != ' ':\n",
        "        return 1 if board[0] == player_symbol else -1\n",
        "    if board[2] == board[4] == board[6] != ' ':\n",
        "        return 1 if board[2] == player_symbol else -1\n",
        "    if ' ' not in board:\n",
        "        return 0\n",
        "    return None"
      ]
    },
    {
      "cell_type": "code",
      "execution_count": 54,
      "metadata": {
        "id": "BKwpqnBRG66B"
      },
      "outputs": [],
      "source": [
        "# Parametri dell'algoritmo Q-learning\n",
        "initial_exploration_prob = 1.0\n",
        "final_exploration_prob = 0.5\n",
        "exploration_decay = num_episodes //1\n",
        "\n",
        "# Funzione per selezionare l'azione in base alla politica di esplorazione/esercitazione per il giocatore\n",
        "def select_player_action(state, episode):\n",
        "\n",
        "    exploration_prob = final_exploration_prob + (initial_exploration_prob - final_exploration_prob) * np.exp(-episode / exploration_decay)\n",
        "\n",
        "    if random.uniform(0, 1) < exploration_prob:\n",
        "        return random.choice([i for i in range(9) if board[i] == ' '])\n",
        "\n",
        "    else:\n",
        "        return max(Q_table[state], key=Q_table[state].get)\n",
        "\n",
        "# Funzione per selezionare l'azione dell'avversario in modo casuale (esplorazione casuale)\n",
        "def select_opponent_action():\n",
        "    return random.choice([i for i in range(9) if board[i] == ' '])\n",
        "\n"
      ]
    },
    {
      "cell_type": "code",
      "execution_count": 55,
      "metadata": {
        "colab": {
          "base_uri": "https://localhost:8080/",
          "height": 49,
          "referenced_widgets": [
            "bb4791521d94453b8a61ac8f7381024e",
            "31fead0e7dc847838c537d1130318da6",
            "092a16caf39d4abb9411b9e04ed39348",
            "a2425e86a1424a4eb4bac36e7ca5dc07",
            "92cc7619381a4f2e9a551257d15b8991",
            "f121c962602946d8970a10093f89b264",
            "8fd89eca899c4151a67910c31bc6fc6a",
            "c4b11998a70340b590c197b099e746f2",
            "f8c8c7304dca412facf54b978d4d1a5f",
            "96af075debaf49e884471aa45ee6aace",
            "f3906d81a32541e392be9b3513dbd401"
          ]
        },
        "id": "5_1PsH29G66G",
        "outputId": "d91cc86e-4cf3-4fd5-da4e-5f7de0fdd70f"
      },
      "outputs": [
        {
          "output_type": "display_data",
          "data": {
            "text/plain": [
              "  0%|          | 0/500000 [00:00<?, ?it/s]"
            ],
            "application/vnd.jupyter.widget-view+json": {
              "version_major": 2,
              "version_minor": 0,
              "model_id": "bb4791521d94453b8a61ac8f7381024e"
            }
          },
          "metadata": {}
        }
      ],
      "source": [
        "\n",
        "wins_X = 0\n",
        "wins_O = 0\n",
        "deuce=0\n",
        "# Algoritmo Q-learning con giocatore che inizia con valore della X prima\n",
        "for episode in tqdm(range(num_episodes)):\n",
        "    # Reset del gioco\n",
        "    board = [' '] * 9\n",
        "    reward = 0\n",
        "    while True:\n",
        "        # Stato corrente\n",
        "        state = get_state()\n",
        "        # Selezione dell'azione per il giocatore\n",
        "        action = select_player_action(state,episode)\n",
        "        # Esegui la mossa del giocatore\n",
        "        make_move(action, player_symbol)\n",
        "        # Valuta lo stato dopo la mossa del giocatore\n",
        "        result = evaluate_state()\n",
        "\n",
        "        if result is not None:\n",
        "            reward = result\n",
        "            if reward == 1:\n",
        "              wins_X += 1\n",
        "            elif reward == -1:\n",
        "              wins_O += 1\n",
        "            else:\n",
        "              deuce+=1\n",
        "            break  # Il gioco è terminato\n",
        "        # Stato successivo\n",
        "        next_state = get_state()\n",
        "        # Selezione dell'azione dell'avversario (casuale)\n",
        "        opponent_action = select_opponent_action()\n",
        "        # Esegui la mossa dell'avversario\n",
        "        make_move(opponent_action, opponent_symbol)\n",
        "        # Valuta lo stato dopo la mossa dell'avversario\n",
        "        result = evaluate_state()\n",
        "\n",
        "        if result is not None:\n",
        "            reward = result\n",
        "            if reward == 1:\n",
        "             wins_X += 1\n",
        "            elif reward == -1:\n",
        "             wins_O += 1\n",
        "            else:\n",
        "              deuce+=1\n",
        "            break  # Il gioco è terminato\n",
        "\n",
        "        # Stato successivo\n",
        "        new_state = get_state()\n",
        "\n",
        "        # Aggiornamento della tabella Q solo per il giocatore\n",
        "        initialize_Q(state)\n",
        "        initialize_Q(new_state)\n",
        "        Q_table[state][action] = (1 - learning_rate) * Q_table[state][action] + learning_rate * (reward + discount_factor * max(Q_table[new_state].values()) - Q_table[state][action])\n",
        "total_games = num_episodes\n",
        "win_percentage_X = (wins_X / total_games) * 100\n",
        "win_percentage_O = (wins_O / total_games) * 100"
      ]
    },
    {
      "cell_type": "code",
      "execution_count": 56,
      "metadata": {
        "colab": {
          "base_uri": "https://localhost:8080/"
        },
        "id": "16JMjFMzG66M",
        "outputId": "82f808ef-8c78-4ab7-d4ba-76950666b41b"
      },
      "outputs": [
        {
          "output_type": "stream",
          "name": "stdout",
          "text": [
            "\n",
            "La lunghezza della tabella Q che uso per l'esplorazione è:4041\n",
            "\n",
            "Percentuale di vittorie per X: 50.2638%\n",
            "Percentuale di vittorie per O: 37.5678%\n",
            " X |   | O \n",
            "---|---|---\n",
            " X |   |   \n",
            "---|---|---\n",
            " X | O |   \n"
          ]
        }
      ],
      "source": [
        "print(f\"\\nLa lunghezza della tabella Q che uso per l'esplorazione è:{len(Q_table)}\\n\")\n",
        "print(f\"Percentuale di vittorie per X: {win_percentage_X}%\")\n",
        "print(f\"Percentuale di vittorie per O: {win_percentage_O}%\")\n",
        "print_board()\n"
      ]
    }
  ],
  "metadata": {
    "kernelspec": {
      "display_name": "venv",
      "language": "python",
      "name": "python3"
    },
    "language_info": {
      "codemirror_mode": {
        "name": "ipython",
        "version": 3
      },
      "file_extension": ".py",
      "mimetype": "text/x-python",
      "name": "python",
      "nbconvert_exporter": "python",
      "pygments_lexer": "ipython3",
      "version": "3.9.13"
    },
    "colab": {
      "provenance": []
    },
    "widgets": {
      "application/vnd.jupyter.widget-state+json": {
        "bb4791521d94453b8a61ac8f7381024e": {
          "model_module": "@jupyter-widgets/controls",
          "model_name": "HBoxModel",
          "model_module_version": "1.5.0",
          "state": {
            "_dom_classes": [],
            "_model_module": "@jupyter-widgets/controls",
            "_model_module_version": "1.5.0",
            "_model_name": "HBoxModel",
            "_view_count": null,
            "_view_module": "@jupyter-widgets/controls",
            "_view_module_version": "1.5.0",
            "_view_name": "HBoxView",
            "box_style": "",
            "children": [
              "IPY_MODEL_31fead0e7dc847838c537d1130318da6",
              "IPY_MODEL_092a16caf39d4abb9411b9e04ed39348",
              "IPY_MODEL_a2425e86a1424a4eb4bac36e7ca5dc07"
            ],
            "layout": "IPY_MODEL_92cc7619381a4f2e9a551257d15b8991"
          }
        },
        "31fead0e7dc847838c537d1130318da6": {
          "model_module": "@jupyter-widgets/controls",
          "model_name": "HTMLModel",
          "model_module_version": "1.5.0",
          "state": {
            "_dom_classes": [],
            "_model_module": "@jupyter-widgets/controls",
            "_model_module_version": "1.5.0",
            "_model_name": "HTMLModel",
            "_view_count": null,
            "_view_module": "@jupyter-widgets/controls",
            "_view_module_version": "1.5.0",
            "_view_name": "HTMLView",
            "description": "",
            "description_tooltip": null,
            "layout": "IPY_MODEL_f121c962602946d8970a10093f89b264",
            "placeholder": "​",
            "style": "IPY_MODEL_8fd89eca899c4151a67910c31bc6fc6a",
            "value": "100%"
          }
        },
        "092a16caf39d4abb9411b9e04ed39348": {
          "model_module": "@jupyter-widgets/controls",
          "model_name": "FloatProgressModel",
          "model_module_version": "1.5.0",
          "state": {
            "_dom_classes": [],
            "_model_module": "@jupyter-widgets/controls",
            "_model_module_version": "1.5.0",
            "_model_name": "FloatProgressModel",
            "_view_count": null,
            "_view_module": "@jupyter-widgets/controls",
            "_view_module_version": "1.5.0",
            "_view_name": "ProgressView",
            "bar_style": "success",
            "description": "",
            "description_tooltip": null,
            "layout": "IPY_MODEL_c4b11998a70340b590c197b099e746f2",
            "max": 500000,
            "min": 0,
            "orientation": "horizontal",
            "style": "IPY_MODEL_f8c8c7304dca412facf54b978d4d1a5f",
            "value": 500000
          }
        },
        "a2425e86a1424a4eb4bac36e7ca5dc07": {
          "model_module": "@jupyter-widgets/controls",
          "model_name": "HTMLModel",
          "model_module_version": "1.5.0",
          "state": {
            "_dom_classes": [],
            "_model_module": "@jupyter-widgets/controls",
            "_model_module_version": "1.5.0",
            "_model_name": "HTMLModel",
            "_view_count": null,
            "_view_module": "@jupyter-widgets/controls",
            "_view_module_version": "1.5.0",
            "_view_name": "HTMLView",
            "description": "",
            "description_tooltip": null,
            "layout": "IPY_MODEL_96af075debaf49e884471aa45ee6aace",
            "placeholder": "​",
            "style": "IPY_MODEL_f3906d81a32541e392be9b3513dbd401",
            "value": " 500000/500000 [00:33&lt;00:00, 17022.38it/s]"
          }
        },
        "92cc7619381a4f2e9a551257d15b8991": {
          "model_module": "@jupyter-widgets/base",
          "model_name": "LayoutModel",
          "model_module_version": "1.2.0",
          "state": {
            "_model_module": "@jupyter-widgets/base",
            "_model_module_version": "1.2.0",
            "_model_name": "LayoutModel",
            "_view_count": null,
            "_view_module": "@jupyter-widgets/base",
            "_view_module_version": "1.2.0",
            "_view_name": "LayoutView",
            "align_content": null,
            "align_items": null,
            "align_self": null,
            "border": null,
            "bottom": null,
            "display": null,
            "flex": null,
            "flex_flow": null,
            "grid_area": null,
            "grid_auto_columns": null,
            "grid_auto_flow": null,
            "grid_auto_rows": null,
            "grid_column": null,
            "grid_gap": null,
            "grid_row": null,
            "grid_template_areas": null,
            "grid_template_columns": null,
            "grid_template_rows": null,
            "height": null,
            "justify_content": null,
            "justify_items": null,
            "left": null,
            "margin": null,
            "max_height": null,
            "max_width": null,
            "min_height": null,
            "min_width": null,
            "object_fit": null,
            "object_position": null,
            "order": null,
            "overflow": null,
            "overflow_x": null,
            "overflow_y": null,
            "padding": null,
            "right": null,
            "top": null,
            "visibility": null,
            "width": null
          }
        },
        "f121c962602946d8970a10093f89b264": {
          "model_module": "@jupyter-widgets/base",
          "model_name": "LayoutModel",
          "model_module_version": "1.2.0",
          "state": {
            "_model_module": "@jupyter-widgets/base",
            "_model_module_version": "1.2.0",
            "_model_name": "LayoutModel",
            "_view_count": null,
            "_view_module": "@jupyter-widgets/base",
            "_view_module_version": "1.2.0",
            "_view_name": "LayoutView",
            "align_content": null,
            "align_items": null,
            "align_self": null,
            "border": null,
            "bottom": null,
            "display": null,
            "flex": null,
            "flex_flow": null,
            "grid_area": null,
            "grid_auto_columns": null,
            "grid_auto_flow": null,
            "grid_auto_rows": null,
            "grid_column": null,
            "grid_gap": null,
            "grid_row": null,
            "grid_template_areas": null,
            "grid_template_columns": null,
            "grid_template_rows": null,
            "height": null,
            "justify_content": null,
            "justify_items": null,
            "left": null,
            "margin": null,
            "max_height": null,
            "max_width": null,
            "min_height": null,
            "min_width": null,
            "object_fit": null,
            "object_position": null,
            "order": null,
            "overflow": null,
            "overflow_x": null,
            "overflow_y": null,
            "padding": null,
            "right": null,
            "top": null,
            "visibility": null,
            "width": null
          }
        },
        "8fd89eca899c4151a67910c31bc6fc6a": {
          "model_module": "@jupyter-widgets/controls",
          "model_name": "DescriptionStyleModel",
          "model_module_version": "1.5.0",
          "state": {
            "_model_module": "@jupyter-widgets/controls",
            "_model_module_version": "1.5.0",
            "_model_name": "DescriptionStyleModel",
            "_view_count": null,
            "_view_module": "@jupyter-widgets/base",
            "_view_module_version": "1.2.0",
            "_view_name": "StyleView",
            "description_width": ""
          }
        },
        "c4b11998a70340b590c197b099e746f2": {
          "model_module": "@jupyter-widgets/base",
          "model_name": "LayoutModel",
          "model_module_version": "1.2.0",
          "state": {
            "_model_module": "@jupyter-widgets/base",
            "_model_module_version": "1.2.0",
            "_model_name": "LayoutModel",
            "_view_count": null,
            "_view_module": "@jupyter-widgets/base",
            "_view_module_version": "1.2.0",
            "_view_name": "LayoutView",
            "align_content": null,
            "align_items": null,
            "align_self": null,
            "border": null,
            "bottom": null,
            "display": null,
            "flex": null,
            "flex_flow": null,
            "grid_area": null,
            "grid_auto_columns": null,
            "grid_auto_flow": null,
            "grid_auto_rows": null,
            "grid_column": null,
            "grid_gap": null,
            "grid_row": null,
            "grid_template_areas": null,
            "grid_template_columns": null,
            "grid_template_rows": null,
            "height": null,
            "justify_content": null,
            "justify_items": null,
            "left": null,
            "margin": null,
            "max_height": null,
            "max_width": null,
            "min_height": null,
            "min_width": null,
            "object_fit": null,
            "object_position": null,
            "order": null,
            "overflow": null,
            "overflow_x": null,
            "overflow_y": null,
            "padding": null,
            "right": null,
            "top": null,
            "visibility": null,
            "width": null
          }
        },
        "f8c8c7304dca412facf54b978d4d1a5f": {
          "model_module": "@jupyter-widgets/controls",
          "model_name": "ProgressStyleModel",
          "model_module_version": "1.5.0",
          "state": {
            "_model_module": "@jupyter-widgets/controls",
            "_model_module_version": "1.5.0",
            "_model_name": "ProgressStyleModel",
            "_view_count": null,
            "_view_module": "@jupyter-widgets/base",
            "_view_module_version": "1.2.0",
            "_view_name": "StyleView",
            "bar_color": null,
            "description_width": ""
          }
        },
        "96af075debaf49e884471aa45ee6aace": {
          "model_module": "@jupyter-widgets/base",
          "model_name": "LayoutModel",
          "model_module_version": "1.2.0",
          "state": {
            "_model_module": "@jupyter-widgets/base",
            "_model_module_version": "1.2.0",
            "_model_name": "LayoutModel",
            "_view_count": null,
            "_view_module": "@jupyter-widgets/base",
            "_view_module_version": "1.2.0",
            "_view_name": "LayoutView",
            "align_content": null,
            "align_items": null,
            "align_self": null,
            "border": null,
            "bottom": null,
            "display": null,
            "flex": null,
            "flex_flow": null,
            "grid_area": null,
            "grid_auto_columns": null,
            "grid_auto_flow": null,
            "grid_auto_rows": null,
            "grid_column": null,
            "grid_gap": null,
            "grid_row": null,
            "grid_template_areas": null,
            "grid_template_columns": null,
            "grid_template_rows": null,
            "height": null,
            "justify_content": null,
            "justify_items": null,
            "left": null,
            "margin": null,
            "max_height": null,
            "max_width": null,
            "min_height": null,
            "min_width": null,
            "object_fit": null,
            "object_position": null,
            "order": null,
            "overflow": null,
            "overflow_x": null,
            "overflow_y": null,
            "padding": null,
            "right": null,
            "top": null,
            "visibility": null,
            "width": null
          }
        },
        "f3906d81a32541e392be9b3513dbd401": {
          "model_module": "@jupyter-widgets/controls",
          "model_name": "DescriptionStyleModel",
          "model_module_version": "1.5.0",
          "state": {
            "_model_module": "@jupyter-widgets/controls",
            "_model_module_version": "1.5.0",
            "_model_name": "DescriptionStyleModel",
            "_view_count": null,
            "_view_module": "@jupyter-widgets/base",
            "_view_module_version": "1.2.0",
            "_view_name": "StyleView",
            "description_width": ""
          }
        }
      }
    }
  },
  "nbformat": 4,
  "nbformat_minor": 0
}