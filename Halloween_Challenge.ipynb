{
  "cells": [
    {
      "cell_type": "code",
      "execution_count": 1,
      "metadata": {
        "id": "zFNmcjp3QGxB"
      },
      "outputs": [],
      "source": [
        "from itertools import product\n",
        "from random import random, randint, shuffle, seed\n",
        "import numpy as np\n",
        "import math\n",
        "from scipy import sparse\n",
        "from random import random, choice, randint\n",
        "from functools import reduce\n",
        "from collections import namedtuple\n",
        "from queue import PriorityQueue, SimpleQueue, LifoQueue\n",
        "from copy import copy"
      ]
    },
    {
      "cell_type": "code",
      "execution_count": 2,
      "metadata": {
        "id": "RBVbvXjwQbfx"
      },
      "outputs": [],
      "source": [
        "PROBLEM_SIZE = 100\n",
        "NUM_SETS = 500"
      ]
    },
    {
      "cell_type": "code",
      "execution_count": 3,
      "metadata": {
        "id": "4RDE48t4ykjM"
      },
      "outputs": [],
      "source": [
        "def make_set_covering_problem(num_points, num_sets, density):\n",
        "    \"\"\"Returns a sparse array where rows are sets and columns are the covered items\"\"\"\n",
        "    seed(num_points*2654435761+num_sets+density)\n",
        "    sets = sparse.lil_array((num_sets, num_points), dtype=bool)\n",
        "    for s, p in product(range(num_sets), range(num_points)):\n",
        "        if random() < density:\n",
        "            sets[s, p] = True\n",
        "    for p in range(num_points):\n",
        "        sets[randint(0, num_sets-1), p] = True\n",
        "    return sets"
      ]
    },
    {
      "cell_type": "markdown",
      "metadata": {
        "id": "I1ZkJ-ucS8Lv"
      },
      "source": [
        " ON THIS PROBLEM I TRIED TO IMPLEMENT THE DIFFERENT METHODS THAT WE STUDIED DURING THE LECTURES ABOUT HILL CLIMBING. I USED 3 FITNESS FUNCTION TO MISURE THE QUALITY OF A STATE. THE FIRST FITNESS FUNCTION AND THE SECOND ARE USED IN THE MOST OF METHODS. THE THIRD IS ONLY USED IN SUIMULATED ANNEALING WHERE WE HAVE TO SEARCH A SOLUTION THAT CONSIDER ALSO CASES IN WHICH COULD BE  MANY PROBLEMS. IN THE IMPLEMENTATION I USED FITNESS1 AND FITNESS3 BUT I ALSO TRIED IN THE PREVIOUS DAYS TO IMPLEMENTO FITNESS2 AND FITNESS3. THE RESULT IN THE FIRT IMPLEMENTATION IS BETTER FOR SIMPLY HILL CLIMBING. ON THE CONTRARY, IN THE SECOND WE HAVE AN IMPLEMENTATION THAT IS BETTER FOR SIMULATED ANNELING."
      ]
    },
    {
      "cell_type": "code",
      "execution_count": 4,
      "metadata": {
        "id": "6C-gCE80QfPd"
      },
      "outputs": [],
      "source": [
        "sets=make_set_covering_problem(100,100,.3)\n",
        "sets_sparsi=tuple(sets.toarray())\n",
        "cost_candidata=30\n",
        "temperature=1000 #I assume that i have a high temperature, it's not the best solution but it is admissible. It permitts a large space of exploration\n",
        "def fitness1(state):\n",
        "    cost = sum(state)\n",
        "    valid = np.all(\n",
        "        reduce(\n",
        "            np.logical_or,\n",
        "            [sets_sparsi[i] for i, t in enumerate(state) if t],\n",
        "            np.array([False for _ in range(PROBLEM_SIZE)]),\n",
        "        )\n",
        "    )\n",
        "    return valid, -cost\n",
        "\n",
        "def fitness2(state):\n",
        "    cost = sum(state)\n",
        "    valid = np.sum(\n",
        "        reduce(\n",
        "            np.logical_or,\n",
        "            [sets_sparsi[i] for i, t in enumerate(state) if t],\n",
        "            np.array([False for _ in range(PROBLEM_SIZE)]),\n",
        "        )\n",
        "    )\n",
        "    return valid, -cost\n",
        "def fitness3(state):\n",
        "    cost=sum(state)\n",
        "    cost_tweaked=sum(tweak(state))\n",
        "    #valid=np.sum(reduce(np.logical_or,[sets_sparsi[i] for i, t in enumerate(state) if t],np.array([False for _ in range(PROBLEM_SIZE)]),))\n",
        "    valid = np.all(reduce(np.logical_or,[sets_sparsi[i] for i, t in enumerate(state) if t],np.array([False for _ in range(PROBLEM_SIZE)]),))\n",
        "    if valid:\n",
        "        return -cost\n",
        "\n",
        "    delta_cost = cost - cost_tweaked #delta that we used in the definition for Simulated Annealing\n",
        "    probability = math.exp(delta_cost / temperature) # value of p used on Simulated Annealing\n",
        "\n",
        "    if random() < probability:\n",
        "        return -cost\n",
        "    else:\n",
        "        return -float('inf')\n",
        "    return valid, -cost\n"
      ]
    },
    {
      "cell_type": "code",
      "execution_count": 5,
      "metadata": {
        "id": "Ag8ggKTnQtDi"
      },
      "outputs": [],
      "source": [
        "def tweak(state):\n",
        "    new_state = copy(state)\n",
        "    index = randint(0, PROBLEM_SIZE - 1)\n",
        "    new_state[index] = not new_state[index]\n",
        "    return new_state\n",
        "\n",
        "def LocalSearch(state):\n",
        "    new_state = copy(state)\n",
        "    index = randint(0, PROBLEM_SIZE - 1)\n",
        "    new_state[index] = not new_state[index]\n",
        "    current_state=copy(new_state)\n",
        "\n",
        "    if fitness2(current_state)>=fitness2(new_state):\n",
        "      return current_state\n",
        "\n",
        "    return new_state\n"
      ]
    },
    {
      "cell_type": "code",
      "execution_count": 6,
      "metadata": {
        "colab": {
          "base_uri": "https://localhost:8080/"
        },
        "id": "YWBrBeWFPbfW",
        "outputId": "023675d8-16e5-4376-f73a-ecc7d40f1f5b"
      },
      "outputs": [
        {
          "name": "stdout",
          "output_type": "stream",
          "text": [
            "The final counter to reach the Hill Climbing with Simple Hill Climbing is 15\n"
          ]
        }
      ],
      "source": [
        "##############################################\n",
        "#    HILL CLIMBING WITH                      #  ### CON LA FITNESS1 è il miglior metodo mentre con la FITNESS2 il miglior metodo è il SIMULATED ANNEALING\n",
        "#    SIMPLE HILL CLIMBING                    #\n",
        "##############################################\n",
        "current_state = [choice([False, False, False, False, False, False]) for _ in range(NUM_SETS)]\n",
        "counter=0\n",
        "for step in range(10_000):#This is the normal execution used for HILL CLIMBING\n",
        "    new_state = tweak(current_state)\n",
        "    if fitness2(new_state) >= fitness2(current_state): #We are calculating the quality of solution with fitness function that is for SIMULATED ANNEALING\n",
        "        current_state = new_state\n",
        "\n",
        "        counter+=1\n",
        "\n",
        "\n",
        "print(f\"The final counter to reach the Hill Climbing with Simple Hill Climbing is {counter}\")"
      ]
    },
    {
      "cell_type": "code",
      "execution_count": 7,
      "metadata": {
        "colab": {
          "base_uri": "https://localhost:8080/"
        },
        "id": "2cAJJOsZQvI5",
        "outputId": "79fddca1-fe9d-40b8-dc55-0065e26a6ec2"
      },
      "outputs": [
        {
          "name": "stdout",
          "output_type": "stream",
          "text": [
            "The final counter to reach the Hill Climbing with Simulated Annealing is 20\n"
          ]
        }
      ],
      "source": [
        "##############################################\n",
        "#    HILL CLIMBING WITH                      #\n",
        "#    SIMULATED ANNEALING                     #\n",
        "##############################################\n",
        "current_state = [choice([False, False, False, False, False, False]) for _ in range(NUM_SETS)]\n",
        "counter=0\n",
        "for step in range(10_000):#This is the normal execution used for HILL CLIMBING\n",
        "    new_state = tweak(current_state)\n",
        "    if fitness3(new_state) >= fitness3(current_state): #We are calculating the quality of solution with fitness function that is for SIMULATED ANNEALING\n",
        "        current_state = new_state\n",
        "\n",
        "        counter+=1\n",
        "\n",
        "\n",
        "print(f\"The final counter to reach the Hill Climbing with Simulated Annealing is {counter}\")"
      ]
    },
    {
      "cell_type": "code",
      "execution_count": 8,
      "metadata": {
        "colab": {
          "base_uri": "https://localhost:8080/"
        },
        "id": "0vSXBO9AH6Pz",
        "outputId": "ab984474-2449-4f9d-ea53-019e9226c2e4"
      },
      "outputs": [
        {
          "name": "stdout",
          "output_type": "stream",
          "text": [
            "The final counter to reach the Hill Climbing with Iterated Local Search is 96\n"
          ]
        }
      ],
      "source": [
        "##############################################\n",
        "#    HILL CLIMBING WITH                      #\n",
        "#    ITERATED LOCAL SEARCH                   #\n",
        "##############################################\n",
        "current_state = [choice([False, False, False, False, False, False]) for _ in range(NUM_SETS)]\n",
        "counter=0\n",
        "#stato_perturbato = perturbation(current_state)\n",
        "for step in range(10_000):#This is the normal execution used for HILL CLIMBING\n",
        "    stato_perturbato = LocalSearch(current_state)\n",
        "    new_state=tweak(stato_perturbato)\n",
        "    if fitness1(new_state) >= fitness1(current_state): #We are calculating the quality of solution with fitness function that is for SIMULATED ANNEALING\n",
        "        current_state = new_state\n",
        "\n",
        "        counter+=1\n",
        "\n",
        "\n",
        "print(f\"The final counter to reach the Hill Climbing with Iterated Local Search is {counter}\")"
      ]
    },
    {
      "cell_type": "code",
      "execution_count": 9,
      "metadata": {
        "colab": {
          "base_uri": "https://localhost:8080/"
        },
        "id": "24Szl6Ag58uL",
        "outputId": "8625f024-3d61-478e-ea94-28e879f668d5"
      },
      "outputs": [
        {
          "name": "stdout",
          "output_type": "stream",
          "text": [
            "The final counter to reach the Hill Climbing with Tabu Search is 10000\n"
          ]
        }
      ],
      "source": [
        "##############################################\n",
        "#    HILL CLIMBING WITH                      #\n",
        "#    TABU SEARCH                             #\n",
        "##############################################\n",
        "\n",
        "\n",
        "current_state = [choice([False, False, False, False, False, False]) for _ in range(NUM_SETS)]\n",
        "tabu=[]\n",
        "counter=0\n",
        "best_state=current_state\n",
        "for step in range(10_000):\n",
        "\n",
        "    tmp= [tweak(current_state) for _ in range(NUM_SETS)]\n",
        "    best = None\n",
        "\n",
        "    for neighbor in tmp:\n",
        "        if neighbor not in tabu:\n",
        "            if best is None or fitness1(neighbor) > fitness1(best):\n",
        "                best = neighbor\n",
        "\n",
        "    if best is not None:\n",
        "        current_solution = best\n",
        "        tabu.append(current_solution)\n",
        "\n",
        "        if fitness1(current_solution) > fitness1(best_state):\n",
        "            best_state = current_solution\n",
        "\n",
        "    counter += 1\n",
        "    tabu.pop(0)\n",
        "\n",
        "print(f\"The final counter to reach the Hill Climbing with Tabu Search is {counter}\")\n",
        "\n"
      ]
    }
  ],
  "metadata": {
    "colab": {
      "provenance": []
    },
    "kernelspec": {
      "display_name": "Python 3",
      "name": "python3"
    },
    "language_info": {
      "name": "python",
      "version": "3.9.13"
    }
  },
  "nbformat": 4,
  "nbformat_minor": 0
}
