{
 "cells": [
  {
   "cell_type": "code",
   "execution_count": 11,
   "metadata": {},
   "outputs": [],
   "source": [
    "import numpy as np\n",
    "from random import random\n",
    "from functools import reduce\n",
    "from collections import namedtuple\n",
    "from queue import PriorityQueue,LifoQueue,SimpleQueue\n",
    "from math import ceil"
   ]
  },
  {
   "cell_type": "code",
   "execution_count": 12,
   "metadata": {},
   "outputs": [
    {
     "name": "stdout",
     "output_type": "stream",
     "text": [
      "[False False False False False]\n",
      "[False False False False  True]\n",
      "[False  True False False  True]\n",
      "[ True False False  True False]\n",
      "[False False False False False]\n",
      "[False False False False False]\n",
      "[False False False  True False]\n",
      "[ True False False False False]\n",
      "[False False False False False]\n",
      "[False False False False False]\n"
     ]
    }
   ],
   "source": [
    "PROBLEM_SIZE=5\n",
    "NUM_SETS=10\n",
    "SETS=tuple(np.array([random() < .2 for _ in range(PROBLEM_SIZE)]) for _ in range(NUM_SETS))\n",
    "for s in SETS:\n",
    " print(s)\n",
    "State=namedtuple('State',['taken','not_taken'])"
   ]
  },
  {
   "cell_type": "code",
   "execution_count": 13,
   "metadata": {},
   "outputs": [],
   "source": [
    "def goal_check(state): #funzione che ci dice se abbiamo raggiunto il nostro obiettivo\n",
    "  new_var = reduce(np.logical_or,[SETS[i] for i in state.taken],np.array([False for _ in range(PROBLEM_SIZE) ]))\n",
    "  return np.all(new_var)"
   ]
  },
  {
   "cell_type": "code",
   "execution_count": 14,
   "metadata": {},
   "outputs": [],
   "source": [
    "def distance(state):# it corresponds to g(n) in the formula->f(n)=g(n)+h(n)\n",
    "    return reduce(np.logical_or,[SETS[i] for i in state.taken],np.array([False for _ in range(PROBLEM_SIZE)]),)"
   ]
  },
  {
   "cell_type": "code",
   "execution_count": 15,
   "metadata": {},
   "outputs": [],
   "source": [
    "def heuristic(state):\n",
    "    ricoperti=distance(state)\n",
    "    \n",
    "    if np.all(ricoperti):\n",
    "        return 0\n",
    "    massimo=max(sum(np.logical_and(s,np.logical_not(ricoperti))) for s in SETS)\n",
    "    \n",
    "    \n",
    "    sum_not_covered=PROBLEM_SIZE-sum(ricoperti)\n",
    "   \n",
    "    opt=ceil(massimo/sum_not_covered)\n",
    "    return opt\n"
   ]
  },
  {
   "cell_type": "code",
   "execution_count": 16,
   "metadata": {},
   "outputs": [],
   "source": [
    "def heuristic2(state):\n",
    "   \n",
    "    return len(state.taken)\n"
   ]
  },
  {
   "cell_type": "code",
   "execution_count": 17,
   "metadata": {},
   "outputs": [],
   "source": [
    "\n",
    "def combined_heuristic(state):\n",
    "    weight1 = 0.7  # weght for the first heuristic\n",
    "    weight2 = 0.3  # weight for the second heuristic\n",
    "#I combine two heuristics, it is a way that is often used in computer science to try to optimize problems.\n",
    "#My aim is to reduce the number of steps to arrive at the solution and to do this I combine two heuristics giving them a weight that can vary.\n",
    "#For example, in this case I combined one of the heuristics I had developed, which later turned out to be similar to the one proposed by the professor,\n",
    "# with another heuristic that calculates the number of taken. It should be all optimistic and the number of steps decreases in a good way.\n",
    "#We can observe that one of these two heuristic could be pessimistic (the second in particular) but the result at the end could be optimistic. \n",
    "# It depends on the weights of different heuristics. \n",
    "# I know that probably the second heuristic is not optimistic and i chose a weight that is smaller than the weight that i used for the first heuristic\n",
    "    heuristic_value1 = heuristic(state)\n",
    "    heuristic_value2 = heuristic2(state)\n",
    "    \n",
    "    combined_value = weight1 * heuristic_value1 + weight2 * heuristic_value2\n",
    "    \n",
    "\n",
    "    return ceil(combined_value)"
   ]
  },
  {
   "cell_type": "code",
   "execution_count": 18,
   "metadata": {},
   "outputs": [],
   "source": [
    "def funzione(state):\n",
    "    return len(state.taken) + heuristic(state)"
   ]
  },
  {
   "cell_type": "code",
   "execution_count": 19,
   "metadata": {},
   "outputs": [],
   "source": [
    "\n",
    "frontier = PriorityQueue()\n",
    "initial_state = State(set(), set(range(NUM_SETS)))\n",
    "frontier.put((funzione(initial_state), initial_state))\n",
    "_, current_state = frontier.get()\n",
    "\n",
    "i = 0\n",
    "\n",
    "while not goal_check(current_state):\n",
    "\n",
    "    i += 1\n",
    "\n",
    "    \n",
    "\n",
    "    for action in current_state.not_taken:\n",
    "        \n",
    "        new_state = State(current_state.taken ^ {action},current_state.not_taken^{action},)\n",
    "        \n",
    "        frontier.put((funzione(new_state),new_state))\n",
    "\n",
    "    _,current_state=frontier.get() \n",
    "    \n",
    "\n",
    "\n",
    "print(f\"Solved in {i:,} steps ({len(current_state.taken)} sets) with function {funzione(current_state)} and heuristic {combined_heuristic(current_state)}\")\n",
    "print(current_state)"
   ]
  },
  {
   "cell_type": "code",
   "execution_count": null,
   "metadata": {},
   "outputs": [
    {
     "data": {
      "text/plain": [
       "True"
      ]
     },
     "execution_count": 10,
     "metadata": {},
     "output_type": "execute_result"
    }
   ],
   "source": [
    "goal_check(current_state)"
   ]
  }
 ],
 "metadata": {
  "kernelspec": {
   "display_name": "venv",
   "language": "python",
   "name": "python3"
  },
  "language_info": {
   "codemirror_mode": {
    "name": "ipython",
    "version": 3
   },
   "file_extension": ".py",
   "mimetype": "text/x-python",
   "name": "python",
   "nbconvert_exporter": "python",
   "pygments_lexer": "ipython3",
   "version": "3.9.13"
  }
 },
 "nbformat": 4,
 "nbformat_minor": 2
}
